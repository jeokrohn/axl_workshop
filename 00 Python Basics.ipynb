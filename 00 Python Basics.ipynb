{
 "cells": [
  {
   "cell_type": "markdown",
   "metadata": {},
   "source": [
    "# Python basics\n",
    "\n",
    "## Getting help\n",
    "\n",
    "Python allows access to interacticve help via the `help` command.\n",
    "\n",
    "Information about class: `help(class_name)`\n",
    "\n",
    "Information about method belong to class: `help(class_name.method_name)`\n",
    "\n",
    "For example `help(str)` give information about the builtin `str` class.\n"
   ]
  },
  {
   "cell_type": "code",
   "execution_count": 1,
   "metadata": {},
   "outputs": [
    {
     "name": "stdout",
     "output_type": "stream",
     "text": [
      "Help on class str in module builtins:\n",
      "\n",
      "class str(object)\n",
      " |  str(object='') -> str\n",
      " |  str(bytes_or_buffer[, encoding[, errors]]) -> str\n",
      " |  \n",
      " |  Create a new string object from the given object. If encoding or\n",
      " |  errors is specified, then the object must expose a data buffer\n",
      " |  that will be decoded using the given encoding and error handler.\n",
      " |  Otherwise, returns the result of object.__str__() (if defined)\n",
      " |  or repr(object).\n",
      " |  encoding defaults to sys.getdefaultencoding().\n",
      " |  errors defaults to 'strict'.\n",
      " |  \n",
      " |  Methods defined here:\n",
      " |  \n",
      " |  __add__(self, value, /)\n",
      " |      Return self+value.\n",
      " |  \n",
      " |  __contains__(self, key, /)\n",
      " |      Return key in self.\n",
      " |  \n",
      " |  __eq__(self, value, /)\n",
      " |      Return self==value.\n",
      " |  \n",
      " |  __format__(...)\n",
      " |      S.__format__(format_spec) -> str\n",
      " |      \n",
      " |      Return a formatted version of S as described by format_spec.\n",
      " |  \n",
      " |  __ge__(self, value, /)\n",
      " |      Return self>=value.\n",
      " |  \n",
      " |  __getattribute__(self, name, /)\n",
      " |      Return getattr(self, name).\n",
      " |  \n",
      " |  __getitem__(self, key, /)\n",
      " |      Return self[key].\n",
      " |  \n",
      " |  __getnewargs__(...)\n",
      " |  \n",
      " |  __gt__(self, value, /)\n",
      " |      Return self>value.\n",
      " |  \n",
      " |  __hash__(self, /)\n",
      " |      Return hash(self).\n",
      " |  \n",
      " |  __iter__(self, /)\n",
      " |      Implement iter(self).\n",
      " |  \n",
      " |  __le__(self, value, /)\n",
      " |      Return self<=value.\n",
      " |  \n",
      " |  __len__(self, /)\n",
      " |      Return len(self).\n",
      " |  \n",
      " |  __lt__(self, value, /)\n",
      " |      Return self<value.\n",
      " |  \n",
      " |  __mod__(self, value, /)\n",
      " |      Return self%value.\n",
      " |  \n",
      " |  __mul__(self, value, /)\n",
      " |      Return self*value.n\n",
      " |  \n",
      " |  __ne__(self, value, /)\n",
      " |      Return self!=value.\n",
      " |  \n",
      " |  __new__(*args, **kwargs) from builtins.type\n",
      " |      Create and return a new object.  See help(type) for accurate signature.\n",
      " |  \n",
      " |  __repr__(self, /)\n",
      " |      Return repr(self).\n",
      " |  \n",
      " |  __rmod__(self, value, /)\n",
      " |      Return value%self.\n",
      " |  \n",
      " |  __rmul__(self, value, /)\n",
      " |      Return self*value.\n",
      " |  \n",
      " |  __sizeof__(...)\n",
      " |      S.__sizeof__() -> size of S in memory, in bytes\n",
      " |  \n",
      " |  __str__(self, /)\n",
      " |      Return str(self).\n",
      " |  \n",
      " |  capitalize(...)\n",
      " |      S.capitalize() -> str\n",
      " |      \n",
      " |      Return a capitalized version of S, i.e. make the first character\n",
      " |      have upper case and the rest lower case.\n",
      " |  \n",
      " |  casefold(...)\n",
      " |      S.casefold() -> str\n",
      " |      \n",
      " |      Return a version of S suitable for caseless comparisons.\n",
      " |  \n",
      " |  center(...)\n",
      " |      S.center(width[, fillchar]) -> str\n",
      " |      \n",
      " |      Return S centered in a string of length width. Padding is\n",
      " |      done using the specified fill character (default is a space)\n",
      " |  \n",
      " |  count(...)\n",
      " |      S.count(sub[, start[, end]]) -> int\n",
      " |      \n",
      " |      Return the number of non-overlapping occurrences of substring sub in\n",
      " |      string S[start:end].  Optional arguments start and end are\n",
      " |      interpreted as in slice notation.\n",
      " |  \n",
      " |  encode(...)\n",
      " |      S.encode(encoding='utf-8', errors='strict') -> bytes\n",
      " |      \n",
      " |      Encode S using the codec registered for encoding. Default encoding\n",
      " |      is 'utf-8'. errors may be given to set a different error\n",
      " |      handling scheme. Default is 'strict' meaning that encoding errors raise\n",
      " |      a UnicodeEncodeError. Other possible values are 'ignore', 'replace' and\n",
      " |      'xmlcharrefreplace' as well as any other name registered with\n",
      " |      codecs.register_error that can handle UnicodeEncodeErrors.\n",
      " |  \n",
      " |  endswith(...)\n",
      " |      S.endswith(suffix[, start[, end]]) -> bool\n",
      " |      \n",
      " |      Return True if S ends with the specified suffix, False otherwise.\n",
      " |      With optional start, test S beginning at that position.\n",
      " |      With optional end, stop comparing S at that position.\n",
      " |      suffix can also be a tuple of strings to try.\n",
      " |  \n",
      " |  expandtabs(...)\n",
      " |      S.expandtabs(tabsize=8) -> str\n",
      " |      \n",
      " |      Return a copy of S where all tab characters are expanded using spaces.\n",
      " |      If tabsize is not given, a tab size of 8 characters is assumed.\n",
      " |  \n",
      " |  find(...)\n",
      " |      S.find(sub[, start[, end]]) -> int\n",
      " |      \n",
      " |      Return the lowest index in S where substring sub is found,\n",
      " |      such that sub is contained within S[start:end].  Optional\n",
      " |      arguments start and end are interpreted as in slice notation.\n",
      " |      \n",
      " |      Return -1 on failure.\n",
      " |  \n",
      " |  format(...)\n",
      " |      S.format(*args, **kwargs) -> str\n",
      " |      \n",
      " |      Return a formatted version of S, using substitutions from args and kwargs.\n",
      " |      The substitutions are identified by braces ('{' and '}').\n",
      " |  \n",
      " |  format_map(...)\n",
      " |      S.format_map(mapping) -> str\n",
      " |      \n",
      " |      Return a formatted version of S, using substitutions from mapping.\n",
      " |      The substitutions are identified by braces ('{' and '}').\n",
      " |  \n",
      " |  index(...)\n",
      " |      S.index(sub[, start[, end]]) -> int\n",
      " |      \n",
      " |      Return the lowest index in S where substring sub is found, \n",
      " |      such that sub is contained within S[start:end].  Optional\n",
      " |      arguments start and end are interpreted as in slice notation.\n",
      " |      \n",
      " |      Raises ValueError when the substring is not found.\n",
      " |  \n",
      " |  isalnum(...)\n",
      " |      S.isalnum() -> bool\n",
      " |      \n",
      " |      Return True if all characters in S are alphanumeric\n",
      " |      and there is at least one character in S, False otherwise.\n",
      " |  \n",
      " |  isalpha(...)\n",
      " |      S.isalpha() -> bool\n",
      " |      \n",
      " |      Return True if all characters in S are alphabetic\n",
      " |      and there is at least one character in S, False otherwise.\n",
      " |  \n",
      " |  isdecimal(...)\n",
      " |      S.isdecimal() -> bool\n",
      " |      \n",
      " |      Return True if there are only decimal characters in S,\n",
      " |      False otherwise.\n",
      " |  \n",
      " |  isdigit(...)\n",
      " |      S.isdigit() -> bool\n",
      " |      \n",
      " |      Return True if all characters in S are digits\n",
      " |      and there is at least one character in S, False otherwise.\n",
      " |  \n",
      " |  isidentifier(...)\n",
      " |      S.isidentifier() -> bool\n",
      " |      \n",
      " |      Return True if S is a valid identifier according\n",
      " |      to the language definition.\n",
      " |      \n",
      " |      Use keyword.iskeyword() to test for reserved identifiers\n",
      " |      such as \"def\" and \"class\".\n",
      " |  \n",
      " |  islower(...)\n",
      " |      S.islower() -> bool\n",
      " |      \n",
      " |      Return True if all cased characters in S are lowercase and there is\n",
      " |      at least one cased character in S, False otherwise.\n",
      " |  \n",
      " |  isnumeric(...)\n",
      " |      S.isnumeric() -> bool\n",
      " |      \n",
      " |      Return True if there are only numeric characters in S,\n",
      " |      False otherwise.\n",
      " |  \n",
      " |  isprintable(...)\n",
      " |      S.isprintable() -> bool\n",
      " |      \n",
      " |      Return True if all characters in S are considered\n",
      " |      printable in repr() or S is empty, False otherwise.\n",
      " |  \n",
      " |  isspace(...)\n",
      " |      S.isspace() -> bool\n",
      " |      \n",
      " |      Return True if all characters in S are whitespace\n",
      " |      and there is at least one character in S, False otherwise.\n",
      " |  \n",
      " |  istitle(...)\n",
      " |      S.istitle() -> bool\n",
      " |      \n",
      " |      Return True if S is a titlecased string and there is at least one\n",
      " |      character in S, i.e. upper- and titlecase characters may only\n",
      " |      follow uncased characters and lowercase characters only cased ones.\n",
      " |      Return False otherwise.\n",
      " |  \n",
      " |  isupper(...)\n",
      " |      S.isupper() -> bool\n",
      " |      \n",
      " |      Return True if all cased characters in S are uppercase and there is\n",
      " |      at least one cased character in S, False otherwise.\n",
      " |  \n",
      " |  join(...)\n",
      " |      S.join(iterable) -> str\n",
      " |      \n",
      " |      Return a string which is the concatenation of the strings in the\n",
      " |      iterable.  The separator between elements is S.\n",
      " |  \n",
      " |  ljust(...)\n",
      " |      S.ljust(width[, fillchar]) -> str\n",
      " |      \n",
      " |      Return S left-justified in a Unicode string of length width. Padding is\n",
      " |      done using the specified fill character (default is a space).\n",
      " |  \n",
      " |  lower(...)\n",
      " |      S.lower() -> str\n",
      " |      \n",
      " |      Return a copy of the string S converted to lowercase.\n",
      " |  \n",
      " |  lstrip(...)\n",
      " |      S.lstrip([chars]) -> str\n",
      " |      \n",
      " |      Return a copy of the string S with leading whitespace removed.\n",
      " |      If chars is given and not None, remove characters in chars instead.\n",
      " |  \n",
      " |  partition(...)\n",
      " |      S.partition(sep) -> (head, sep, tail)\n",
      " |      \n",
      " |      Search for the separator sep in S, and return the part before it,\n",
      " |      the separator itself, and the part after it.  If the separator is not\n",
      " |      found, return S and two empty strings.\n",
      " |  \n",
      " |  replace(...)\n",
      " |      S.replace(old, new[, count]) -> str\n",
      " |      \n",
      " |      Return a copy of S with all occurrences of substring\n",
      " |      old replaced by new.  If the optional argument count is\n",
      " |      given, only the first count occurrences are replaced.\n",
      " |  \n",
      " |  rfind(...)\n",
      " |      S.rfind(sub[, start[, end]]) -> int\n",
      " |      \n",
      " |      Return the highest index in S where substring sub is found,\n",
      " |      such that sub is contained within S[start:end].  Optional\n",
      " |      arguments start and end are interpreted as in slice notation.\n",
      " |      \n",
      " |      Return -1 on failure.\n",
      " |  \n",
      " |  rindex(...)\n",
      " |      S.rindex(sub[, start[, end]]) -> int\n",
      " |      \n",
      " |      Return the highest index in S where substring sub is found,\n",
      " |      such that sub is contained within S[start:end].  Optional\n",
      " |      arguments start and end are interpreted as in slice notation.\n",
      " |      \n",
      " |      Raises ValueError when the substring is not found.\n",
      " |  \n",
      " |  rjust(...)\n",
      " |      S.rjust(width[, fillchar]) -> str\n",
      " |      \n",
      " |      Return S right-justified in a string of length width. Padding is\n",
      " |      done using the specified fill character (default is a space).\n",
      " |  \n",
      " |  rpartition(...)\n",
      " |      S.rpartition(sep) -> (head, sep, tail)\n",
      " |      \n",
      " |      Search for the separator sep in S, starting at the end of S, and return\n",
      " |      the part before it, the separator itself, and the part after it.  If the\n",
      " |      separator is not found, return two empty strings and S.\n",
      " |  \n",
      " |  rsplit(...)\n",
      " |      S.rsplit(sep=None, maxsplit=-1) -> list of strings\n",
      " |      \n",
      " |      Return a list of the words in S, using sep as the\n",
      " |      delimiter string, starting at the end of the string and\n",
      " |      working to the front.  If maxsplit is given, at most maxsplit\n",
      " |      splits are done. If sep is not specified, any whitespace string\n",
      " |      is a separator.\n",
      " |  \n",
      " |  rstrip(...)\n",
      " |      S.rstrip([chars]) -> str\n",
      " |      \n",
      " |      Return a copy of the string S with trailing whitespace removed.\n",
      " |      If chars is given and not None, remove characters in chars instead.\n",
      " |  \n",
      " |  split(...)\n",
      " |      S.split(sep=None, maxsplit=-1) -> list of strings\n",
      " |      \n",
      " |      Return a list of the words in S, using sep as the\n",
      " |      delimiter string.  If maxsplit is given, at most maxsplit\n",
      " |      splits are done. If sep is not specified or is None, any\n",
      " |      whitespace string is a separator and empty strings are\n",
      " |      removed from the result.\n",
      " |  \n",
      " |  splitlines(...)\n",
      " |      S.splitlines([keepends]) -> list of strings\n",
      " |      \n",
      " |      Return a list of the lines in S, breaking at line boundaries.\n",
      " |      Line breaks are not included in the resulting list unless keepends\n",
      " |      is given and true.\n",
      " |  \n",
      " |  startswith(...)\n",
      " |      S.startswith(prefix[, start[, end]]) -> bool\n",
      " |      \n",
      " |      Return True if S starts with the specified prefix, False otherwise.\n",
      " |      With optional start, test S beginning at that position.\n",
      " |      With optional end, stop comparing S at that position.\n",
      " |      prefix can also be a tuple of strings to try.\n",
      " |  \n",
      " |  strip(...)\n",
      " |      S.strip([chars]) -> str\n",
      " |      \n",
      " |      Return a copy of the string S with leading and trailing\n",
      " |      whitespace removed.\n",
      " |      If chars is given and not None, remove characters in chars instead.\n",
      " |  \n",
      " |  swapcase(...)\n",
      " |      S.swapcase() -> str\n",
      " |      \n",
      " |      Return a copy of S with uppercase characters converted to lowercase\n",
      " |      and vice versa.\n",
      " |  \n",
      " |  title(...)\n",
      " |      S.title() -> str\n",
      " |      \n",
      " |      Return a titlecased version of S, i.e. words start with title case\n",
      " |      characters, all remaining cased characters have lower case.\n",
      " |  \n",
      " |  translate(...)\n",
      " |      S.translate(table) -> str\n",
      " |      \n",
      " |      Return a copy of the string S in which each character has been mapped\n",
      " |      through the given translation table. The table must implement\n",
      " |      lookup/indexing via __getitem__, for instance a dictionary or list,\n",
      " |      mapping Unicode ordinals to Unicode ordinals, strings, or None. If\n",
      " |      this operation raises LookupError, the character is left untouched.\n",
      " |      Characters mapped to None are deleted.\n",
      " |  \n",
      " |  upper(...)\n",
      " |      S.upper() -> str\n",
      " |      \n",
      " |      Return a copy of S converted to uppercase.\n",
      " |  \n",
      " |  zfill(...)\n",
      " |      S.zfill(width) -> str\n",
      " |      \n",
      " |      Pad a numeric string S with zeros on the left, to fill a field\n",
      " |      of the specified width. The string S is never truncated.\n",
      " |  \n",
      " |  ----------------------------------------------------------------------\n",
      " |  Static methods defined here:\n",
      " |  \n",
      " |  maketrans(x, y=None, z=None, /)\n",
      " |      Return a translation table usable for str.translate().\n",
      " |      \n",
      " |      If there is only one argument, it must be a dictionary mapping Unicode\n",
      " |      ordinals (integers) or characters to Unicode ordinals, strings or None.\n",
      " |      Character keys will be then converted to ordinals.\n",
      " |      If there are two arguments, they must be strings of equal length, and\n",
      " |      in the resulting dictionary, each character in x will be mapped to the\n",
      " |      character at the same position in y. If there is a third argument, it\n",
      " |      must be a string, whose characters will be mapped to None in the result.\n",
      "\n"
     ]
    }
   ],
   "source": [
    "help(str)"
   ]
  },
  {
   "cell_type": "markdown",
   "metadata": {},
   "source": [
    "If you want detailed information about one specific method then you could use:\n",
    "`help(str.startswith)`"
   ]
  },
  {
   "cell_type": "code",
   "execution_count": 2,
   "metadata": {},
   "outputs": [
    {
     "name": "stdout",
     "output_type": "stream",
     "text": [
      "Help on method_descriptor:\n",
      "\n",
      "startswith(...)\n",
      "    S.startswith(prefix[, start[, end]]) -> bool\n",
      "    \n",
      "    Return True if S starts with the specified prefix, False otherwise.\n",
      "    With optional start, test S beginning at that position.\n",
      "    With optional end, stop comparing S at that position.\n",
      "    prefix can also be a tuple of strings to try.\n",
      "\n"
     ]
    }
   ],
   "source": [
    "help(str.startswith)"
   ]
  },
  {
   "cell_type": "code",
   "execution_count": 3,
   "metadata": {},
   "outputs": [
    {
     "data": {
      "text/plain": [
       "True"
      ]
     },
     "execution_count": 3,
     "metadata": {},
     "output_type": "execute_result"
    }
   ],
   "source": [
    "'my string'.startswith('my')"
   ]
  },
  {
   "cell_type": "code",
   "execution_count": 4,
   "metadata": {},
   "outputs": [
    {
     "data": {
      "text/plain": [
       "False"
      ]
     },
     "execution_count": 4,
     "metadata": {},
     "output_type": "execute_result"
    }
   ],
   "source": [
    "'my string'.startswith('xyz')"
   ]
  },
  {
   "cell_type": "markdown",
   "metadata": {},
   "source": [
    "## Comments\n",
    "\n",
    "Any line starting with `#` is considered a comment and the text following the `#` is ignored during code execution\n",
    "\n",
    "Multiline comments start and end with: '''"
   ]
  },
  {
   "cell_type": "code",
   "execution_count": 5,
   "metadata": {},
   "outputs": [
    {
     "name": "stdout",
     "output_type": "stream",
     "text": [
      "Hello world!\n"
     ]
    }
   ],
   "source": [
    "# this is a comment\n",
    "\n",
    "''' this is a comment\n",
    "    spanning multiple lines\n",
    "'''\n",
    "\n",
    "# finally some code\n",
    "print('Hello world!')   # printing something"
   ]
  },
  {
   "cell_type": "markdown",
   "metadata": {},
   "source": [
    "## Variables\n",
    "\n",
    "Variables in Python are named locations which store references to objects stored in memory. \n",
    "\n",
    "You can assign any value to any variable. Types don't need to be declared. The type of a variable is automatically detected at runtime based on the type of the value you assign."
   ]
  },
  {
   "cell_type": "code",
   "execution_count": 6,
   "metadata": {},
   "outputs": [
    {
     "data": {
      "text/plain": [
       "str"
      ]
     },
     "execution_count": 6,
     "metadata": {},
     "output_type": "execute_result"
    }
   ],
   "source": [
    "v = 'hello'\n",
    "type(v)"
   ]
  },
  {
   "cell_type": "code",
   "execution_count": 7,
   "metadata": {},
   "outputs": [
    {
     "data": {
      "text/plain": [
       "int"
      ]
     },
     "execution_count": 7,
     "metadata": {},
     "output_type": "execute_result"
    }
   ],
   "source": [
    "v = 10\n",
    "type(v)"
   ]
  },
  {
   "cell_type": "code",
   "execution_count": 8,
   "metadata": {},
   "outputs": [
    {
     "data": {
      "text/plain": [
       "float"
      ]
     },
     "execution_count": 8,
     "metadata": {},
     "output_type": "execute_result"
    }
   ],
   "source": [
    "v = 10.0\n",
    "type(v)"
   ]
  },
  {
   "cell_type": "markdown",
   "metadata": {},
   "source": [
    "### Simultaneous Assignments\n",
    "\n",
    "Python does not only have simple assignments (see above), but also allows to assign multiple values to multiple varibles at the same time\n"
   ]
  },
  {
   "cell_type": "code",
   "execution_count": 9,
   "metadata": {},
   "outputs": [
    {
     "name": "stdout",
     "output_type": "stream",
     "text": [
      "a = 1, b = 2, c = 3\n"
     ]
    }
   ],
   "source": [
    "a, b, c = 1, 2, 3\n",
    "print('a = {}, b = {}, c = {}'.format(a, b, c))"
   ]
  },
  {
   "cell_type": "markdown",
   "metadata": {},
   "source": [
    "This can be used to simply swap values between two variables w/o using an intermediate variable. Instead of\n",
    "```\n",
    "a = 1\n",
    "b = 2\n",
    "\n",
    "# now swap\n",
    "t = a\n",
    "a = b\n",
    "b = t\n",
    "```\n",
    "\n",
    "we can simply:"
   ]
  },
  {
   "cell_type": "code",
   "execution_count": 10,
   "metadata": {},
   "outputs": [
    {
     "name": "stdout",
     "output_type": "stream",
     "text": [
      "a = 2, b = 1\n"
     ]
    }
   ],
   "source": [
    "a = 1\n",
    "b = 2\n",
    "# now swap\n",
    "a, b = b, a\n",
    "print('a = {}, b = {}'.format(a, b))"
   ]
  },
  {
   "cell_type": "markdown",
   "metadata": {},
   "source": [
    "## Data Types\n",
    "\n",
    "Python has five standard types:\n",
    "1. Numbers (int, float, ..)\n",
    "2. String\n",
    "3. List\n",
    "4. Tuple\n",
    "6. Dictionary\n",
    "7. Boolean - values are **`True`** and **`False`**, but also other values are considered **`False`**:\n",
    "    1. 0, 0.0\n",
    "    2.  empty List - []\n",
    "    3. empty Tuple - ()\n",
    "    4. empty Dictionary - {}\n",
    "    5. **None**\n",
    "    \n",
    "### Strings\n",
    "\n",
    "Strings can be indexed and sliced"
   ]
  },
  {
   "cell_type": "code",
   "execution_count": 11,
   "metadata": {},
   "outputs": [
    {
     "name": "stdout",
     "output_type": "stream",
     "text": [
      "a\n",
      "c\n"
     ]
    }
   ],
   "source": [
    "a = 'abcdefghijkl'\n",
    "print(a[0])\n",
    "print(a[2])"
   ]
  },
  {
   "cell_type": "markdown",
   "metadata": {},
   "source": [
    "Negative indexes start at the end"
   ]
  },
  {
   "cell_type": "code",
   "execution_count": 12,
   "metadata": {},
   "outputs": [
    {
     "name": "stdout",
     "output_type": "stream",
     "text": [
      "l\n",
      "i\n"
     ]
    }
   ],
   "source": [
    "print(a[-1])\n",
    "print(a[-4])"
   ]
  },
  {
   "cell_type": "markdown",
   "metadata": {},
   "source": [
    "Negative indexing the complicated way"
   ]
  },
  {
   "cell_type": "code",
   "execution_count": 13,
   "metadata": {},
   "outputs": [
    {
     "name": "stdout",
     "output_type": "stream",
     "text": [
      "l\n",
      "l\n"
     ]
    }
   ],
   "source": [
    "print(a[-1])\n",
    "\n",
    "# is the same as\n",
    "print(a[len(a) - 1])"
   ]
  },
  {
   "cell_type": "markdown",
   "metadata": {},
   "source": [
    "**Slicing** provides access to parts of a string"
   ]
  },
  {
   "cell_type": "code",
   "execution_count": 14,
   "metadata": {},
   "outputs": [
    {
     "name": "stdout",
     "output_type": "stream",
     "text": [
      "bcdefghijkl\n",
      "abc\n",
      "cde\n",
      "cdefgh\n"
     ]
    }
   ],
   "source": [
    "print(a[1:])   # everything starting at the second character\n",
    "print(a[:3])   # 1st three characters\n",
    "print(a[2:5])  # starting at the 3rd character until (including) the 5th\n",
    "print(a[2:-4]) # starting at the 3rd character until (not including) the 4th from the end"
   ]
  },
  {
   "cell_type": "markdown",
   "metadata": {},
   "source": [
    "Strings can be **concatenated** and they also support repetition"
   ]
  },
  {
   "cell_type": "code",
   "execution_count": 15,
   "metadata": {},
   "outputs": [
    {
     "name": "stdout",
     "output_type": "stream",
     "text": [
      "Cisco Spark\n",
      "+++++++++++++\n"
     ]
    }
   ],
   "source": [
    "a = 'Cisco'\n",
    "b = ' Spark'\n",
    "print(a + b)\n",
    "\n",
    "print('+' * 13)"
   ]
  },
  {
   "cell_type": "markdown",
   "metadata": {},
   "source": [
    "Strings in Python are immutable and this can not be changed in place"
   ]
  },
  {
   "cell_type": "code",
   "execution_count": 16,
   "metadata": {},
   "outputs": [
    {
     "ename": "TypeError",
     "evalue": "'str' object does not support item assignment",
     "output_type": "error",
     "traceback": [
      "\u001b[0;31m---------------------------------------------------------------------------\u001b[0m",
      "\u001b[0;31mTypeError\u001b[0m                                 Traceback (most recent call last)",
      "\u001b[0;32m<ipython-input-16-f170cbd7d0bc>\u001b[0m in \u001b[0;36m<module>\u001b[0;34m()\u001b[0m\n\u001b[1;32m      1\u001b[0m \u001b[0ma\u001b[0m \u001b[0;34m=\u001b[0m \u001b[0;34m'abcdef'\u001b[0m\u001b[0;34m\u001b[0m\u001b[0m\n\u001b[0;32m----> 2\u001b[0;31m \u001b[0ma\u001b[0m\u001b[0;34m[\u001b[0m\u001b[0;36m1\u001b[0m\u001b[0;34m]\u001b[0m \u001b[0;34m=\u001b[0m \u001b[0;34m'B'\u001b[0m\u001b[0;34m\u001b[0m\u001b[0m\n\u001b[0m",
      "\u001b[0;31mTypeError\u001b[0m: 'str' object does not support item assignment"
     ]
    }
   ],
   "source": [
    "a = 'abcdef'\n",
    "a[1] = 'B'"
   ]
  },
  {
   "cell_type": "markdown",
   "metadata": {},
   "source": [
    "Instead we need to do something like:"
   ]
  },
  {
   "cell_type": "code",
   "execution_count": 17,
   "metadata": {},
   "outputs": [
    {
     "name": "stdout",
     "output_type": "stream",
     "text": [
      "aBcdef\n"
     ]
    }
   ],
   "source": [
    "a = 'abcdef'\n",
    "a = a[:1] + 'B' + a[2:]\n",
    "print(a)"
   ]
  },
  {
   "cell_type": "markdown",
   "metadata": {},
   "source": [
    "Or we create a list of characters from the string, replace a character and then convert the list back to a string:"
   ]
  },
  {
   "cell_type": "code",
   "execution_count": 18,
   "metadata": {},
   "outputs": [
    {
     "name": "stdout",
     "output_type": "stream",
     "text": [
      "['a', 'b', 'c', 'd', 'e', 'f']\n",
      "aBcdef\n"
     ]
    }
   ],
   "source": [
    "a = 'abcdef'\n",
    "a_list = list(a)\n",
    "print(a_list)\n",
    "\n",
    "a_list[1] = 'B'\n",
    "a = ''.join(a_list)\n",
    "print(a)"
   ]
  },
  {
   "cell_type": "markdown",
   "metadata": {},
   "source": [
    "### Lists and tuples\n",
    "\n",
    "Lists and tuples can be indexed as well."
   ]
  },
  {
   "cell_type": "code",
   "execution_count": 19,
   "metadata": {},
   "outputs": [
    {
     "name": "stdout",
     "output_type": "stream",
     "text": [
      "3\n",
      "3\n"
     ]
    }
   ],
   "source": [
    "some_list = [1, 2, 3, 'a', 4]\n",
    "some_tuple = (1, 2, 3, 'a', 4)\n",
    "\n",
    "\n",
    "print(some_list[2])\n",
    "print(some_tuple[2])\n"
   ]
  },
  {
   "cell_type": "markdown",
   "metadata": {},
   "source": [
    "**Slicing** allows to access parts of lists and tuples."
   ]
  },
  {
   "cell_type": "code",
   "execution_count": 20,
   "metadata": {},
   "outputs": [
    {
     "name": "stdout",
     "output_type": "stream",
     "text": [
      "[2, 3, 'a', 4]\n",
      "(2, 3, 'a', 4)\n"
     ]
    }
   ],
   "source": [
    "print(some_list[1:])\n",
    "print(some_tuple[1:])\n"
   ]
  },
  {
   "cell_type": "markdown",
   "metadata": {},
   "source": [
    "But only list elements can be updated. List are **mutable** while tuples are **immutable**."
   ]
  },
  {
   "cell_type": "code",
   "execution_count": 21,
   "metadata": {},
   "outputs": [
    {
     "name": "stdout",
     "output_type": "stream",
     "text": [
      "[1, 2, 'new value', 'a', 4]\n"
     ]
    }
   ],
   "source": [
    "some_list[2] = 'new value'\n",
    "print(some_list)"
   ]
  },
  {
   "cell_type": "code",
   "execution_count": 22,
   "metadata": {},
   "outputs": [
    {
     "ename": "TypeError",
     "evalue": "'tuple' object does not support item assignment",
     "output_type": "error",
     "traceback": [
      "\u001b[0;31m---------------------------------------------------------------------------\u001b[0m",
      "\u001b[0;31mTypeError\u001b[0m                                 Traceback (most recent call last)",
      "\u001b[0;32m<ipython-input-22-e6e05bc872c0>\u001b[0m in \u001b[0;36m<module>\u001b[0;34m()\u001b[0m\n\u001b[0;32m----> 1\u001b[0;31m \u001b[0msome_tuple\u001b[0m\u001b[0;34m[\u001b[0m\u001b[0;36m2\u001b[0m\u001b[0;34m]\u001b[0m \u001b[0;34m=\u001b[0m \u001b[0;34m'new value'\u001b[0m\u001b[0;34m\u001b[0m\u001b[0m\n\u001b[0m",
      "\u001b[0;31mTypeError\u001b[0m: 'tuple' object does not support item assignment"
     ]
    }
   ],
   "source": [
    "some_tuple[2] = 'new value'"
   ]
  },
  {
   "cell_type": "markdown",
   "metadata": {},
   "source": [
    "### Adding elements to lists\n",
    "\n",
    "Keep in mind: tuples are immutable and thus you can not add elements to tuples (directly)."
   ]
  },
  {
   "cell_type": "code",
   "execution_count": 23,
   "metadata": {},
   "outputs": [
    {
     "name": "stdout",
     "output_type": "stream",
     "text": [
      "[1]\n",
      "[1, 2, 3, 4]\n",
      "[1, 2, 3, 4, [2, 3, 4]]\n",
      "[1, 2, 'added at index 2', 3, 4, [2, 3, 4]]\n"
     ]
    }
   ],
   "source": [
    "list1 = []\n",
    "\n",
    "# list.append() allows to append a single element at the end\n",
    "list1.append(1)\n",
    "print(list1)\n",
    "\n",
    "# while list.extend() allows to append all elements of the iterable passed as single argument\n",
    "list2 = [2,3,4]\n",
    "list1.extend(list2)\n",
    "print(list1)\n",
    "\n",
    "# this append will add a list as last element\n",
    "list1.append(list2)\n",
    "print(list1)\n",
    "\n",
    "# list.insert() allows to insert an element at a given point\n",
    "list1.insert(2, 'added at index 2')\n",
    "print((list1))"
   ]
  },
  {
   "cell_type": "code",
   "execution_count": 24,
   "metadata": {},
   "outputs": [
    {
     "name": "stdout",
     "output_type": "stream",
     "text": [
      "Did you expect to see this?: [1, 2, 'added at index 2', 3, 4, [2, 3, 4], 'H', 'e', 'l', 'l', 'o', ' ', 'W', 'o', 'r', 'l', 'd']\n"
     ]
    }
   ],
   "source": [
    "list1.extend('Hello World')\n",
    "print('Did you expect to see this?: {}'.format(list1))"
   ]
  },
  {
   "cell_type": "markdown",
   "metadata": {},
   "source": [
    "The reason for the previous result is that list.extend() takes any \"**`iterable`**\" as an argument and then appends all elements of that iterable one by one. And: a string is an iterable!"
   ]
  },
  {
   "cell_type": "code",
   "execution_count": 25,
   "metadata": {},
   "outputs": [
    {
     "name": "stdout",
     "output_type": "stream",
     "text": [
      "H\n",
      "e\n",
      "l\n",
      "l\n",
      "o\n",
      " \n",
      "W\n",
      "o\n",
      "r\n",
      "l\n",
      "d\n"
     ]
    }
   ],
   "source": [
    "text = 'Hello World'\n",
    "for i in text:\n",
    "    print(i)"
   ]
  },
  {
   "cell_type": "markdown",
   "metadata": {},
   "source": [
    "#### Removing elements from a list"
   ]
  },
  {
   "cell_type": "code",
   "execution_count": 26,
   "metadata": {},
   "outputs": [
    {
     "name": "stdout",
     "output_type": "stream",
     "text": [
      "Popped value: added at index 2\n",
      "After pop(2): [1, 2, 3, 4, [2, 3, 4], 'H', 'e', 'l', 'l', 'o', ' ', 'W', 'o', 'r', 'l', 'd']\n",
      "Poppped value d, list after pop(): [1, 2, 3, 4, [2, 3, 4], 'H', 'e', 'l', 'l', 'o', ' ', 'W', 'o', 'r', 'l']\n",
      "Poppped value l, list after pop(): [1, 2, 3, 4, [2, 3, 4], 'H', 'e', 'l', 'l', 'o', ' ', 'W', 'o', 'r']\n",
      "Poppped value r, list after pop(): [1, 2, 3, 4, [2, 3, 4], 'H', 'e', 'l', 'l', 'o', ' ', 'W', 'o']\n",
      "Poppped value o, list after pop(): [1, 2, 3, 4, [2, 3, 4], 'H', 'e', 'l', 'l', 'o', ' ', 'W']\n",
      "Poppped value W, list after pop(): [1, 2, 3, 4, [2, 3, 4], 'H', 'e', 'l', 'l', 'o', ' ']\n",
      "Poppped value  , list after pop(): [1, 2, 3, 4, [2, 3, 4], 'H', 'e', 'l', 'l', 'o']\n",
      "Poppped value o, list after pop(): [1, 2, 3, 4, [2, 3, 4], 'H', 'e', 'l', 'l']\n",
      "Poppped value l, list after pop(): [1, 2, 3, 4, [2, 3, 4], 'H', 'e', 'l']\n",
      "Poppped value l, list after pop(): [1, 2, 3, 4, [2, 3, 4], 'H', 'e']\n",
      "Poppped value e, list after pop(): [1, 2, 3, 4, [2, 3, 4], 'H']\n",
      "Poppped value H, list after pop(): [1, 2, 3, 4, [2, 3, 4]]\n",
      "Poppped value [2, 3, 4], list after pop(): [1, 2, 3, 4]\n",
      "Poppped value 4, list after pop(): [1, 2, 3]\n",
      "Poppped value 3, list after pop(): [1, 2]\n",
      "Poppped value 2, list after pop(): [1]\n",
      "Poppped value 1, list after pop(): []\n"
     ]
    }
   ],
   "source": [
    "# list pop() allows to retrieve and remove a value from the list at a given index\n",
    "print('Popped value: {}'.format(list1.pop(2)))\n",
    "print('After pop(2): {}'.format(list1))\n",
    "\n",
    "# without the index parameter pop() removes the element at the end of the list\n",
    "while list1: # this works b/v an empty list [] is considered False in boolean expressions\n",
    "    value = list1.pop()\n",
    "    print('Poppped value {}, list after pop(): {}'.format(value, list1))"
   ]
  },
  {
   "cell_type": "markdown",
   "metadata": {},
   "source": [
    "Basically `list.append()` and `list.pop()` can be used to implement a simple stack (LIFO)"
   ]
  },
  {
   "cell_type": "markdown",
   "metadata": {},
   "source": [
    "### Dictionaries\n",
    "\n",
    "A dictionary allows to store multiple values each under a unique key. The key can be of any **immutable** type."
   ]
  },
  {
   "cell_type": "code",
   "execution_count": 27,
   "metadata": {},
   "outputs": [
    {
     "name": "stdout",
     "output_type": "stream",
     "text": [
      "Bob\n",
      "{'name': 'Bob', 'email': 'bob@example.com'}\n"
     ]
    }
   ],
   "source": [
    "bob = {'name' : 'Bob', 'email':'bob@example.com'}\n",
    "alice = {'name' : 'Alice', 'email':'alice@example.com'}\n",
    "\n",
    "print(bob['name'])\n",
    "\n",
    "# dictionary holding both entries indexed by email\n",
    "persons = {bob['email'] : bob, alice['email'] : alice }\n",
    "\n",
    "print(persons['bob@example.com'])\n"
   ]
  },
  {
   "cell_type": "markdown",
   "metadata": {},
   "source": [
    "#### Adding elements to dictionaries\n"
   ]
  },
  {
   "cell_type": "code",
   "execution_count": 28,
   "metadata": {},
   "outputs": [
    {
     "name": "stdout",
     "output_type": "stream",
     "text": [
      "Before: {'bob@example.com': {'name': 'Bob', 'email': 'bob@example.com'}, 'alice@example.com': {'name': 'Alice', 'email': 'alice@example.com'}}\n",
      "After adding: {'bob@example.com': {'name': 'Bob', 'email': 'bob@example.com'}, 'alice@example.com': {'name': 'Alice', 'email': 'alice@example.com'}, 'charlie@example.com': {'email': 'charlie@example.com', 'name': 'Charlie'}}\n",
      "\n",
      "After modifying: {'bob@example.com': {'name': 'Bob', 'email': 'bob@example.com'}, 'alice@example.com': {'name': 'Alice', 'email': 'alice@example.com'}, 'charlie@example.com': {'email': 'charlie@example.com', 'name': 'Charly'}}\n"
     ]
    }
   ],
   "source": [
    "print('Before: {}'.format(persons))\n",
    "\n",
    "# This add the value at the right under the key provide in the [] brackets\n",
    "persons['charlie@example.com'] = {'email':'charlie@example.com', 'name':'Charlie'}\n",
    "\n",
    "print('After adding: {}'.format(persons))\n",
    "\n",
    "# the same syntax can also be used to change a value in a dictionary\n",
    "persons['charlie@example.com']['name'] = 'Charly'\n",
    "print('\\nAfter modifying: {}'.format(persons))\n"
   ]
  },
  {
   "cell_type": "markdown",
   "metadata": {},
   "source": [
    "#### References, references.."
   ]
  },
  {
   "cell_type": "code",
   "execution_count": 29,
   "metadata": {},
   "outputs": [
    {
     "name": "stdout",
     "output_type": "stream",
     "text": [
      "Orginal list: [{'name': 'Alice', 'email': 'alice@example.com'}, {'name': 'Bob', 'email': 'bob@example.com'}, {'name': 'Charlie', 'email': 'charlie@example.com'}]\n",
      "Orginal dict: {'alice@example.com': {'name': 'Alice', 'email': 'alice@example.com'}, 'bob@example.com': {'name': 'Bob', 'email': 'bob@example.com'}, 'charlie@example.com': {'name': 'Charlie', 'email': 'charlie@example.com'}}\n",
      "\n",
      "List after changing Bob's name: [{'name': 'Alice', 'email': 'alice@example.com'}, {'name': 'BOB', 'email': 'bob@example.com'}, {'name': 'Charlie', 'email': 'charlie@example.com'}]\n",
      "Dict after changing Bob's name: [{'name': 'Alice', 'email': 'alice@example.com'}, {'name': 'BOB', 'email': 'bob@example.com'}, {'name': 'Charlie', 'email': 'charlie@example.com'}]\n"
     ]
    }
   ],
   "source": [
    "bob = {'name' : 'Bob', 'email':'bob@example.com'}\n",
    "alice = {'name' : 'Alice', 'email':'alice@example.com'}\n",
    "charlie = {'name' : 'Charlie', 'email':'charlie@example.com'}\n",
    "\n",
    "person_list = [alice, bob, charlie]\n",
    "\n",
    "person_dict = {p['email']:p for p in person_list}\n",
    "print('Orginal list: {}'.format(person_list))\n",
    "print('Orginal dict: {}'.format(person_dict))\n",
    "\n",
    "bob['name'] = 'BOB'\n",
    "\n",
    "print('\\nList after changing Bob\\'s name: {}'.format(person_list))\n",
    "print('Dict after changing Bob\\'s name: {}'.format(person_list))"
   ]
  },
  {
   "cell_type": "markdown",
   "metadata": {},
   "source": [
    "Above example shows that the list `person_list` holds references to the original dictionaries `bob`, `alice`, and `charlie`. Also the values in dictionary person_dict are references to the original dictionaries `bob`, `alice`, and `charlie`. \n",
    "\n",
    "This means that changes to the orginal original dictionaries `bob`, `alice`, and `charlie` directly also affect `person_list` and `person_dict`.\n",
    "\n",
    "Also note tha the order of the element in a dictionary is random: the order in the printed dictionary is different from the order in which the elements have been added."
   ]
  },
  {
   "cell_type": "markdown",
   "metadata": {},
   "source": [
    "#### Check for key presence\n",
    "\n",
    "As a dictionary can hold an arbitrary number of key/object pairs we need some way to determine whether some key is present in a dictionary.\n",
    "\n",
    "Trying to access an undefined key in a dictionary leads to a **`KeyError`**."
   ]
  },
  {
   "cell_type": "code",
   "execution_count": 30,
   "metadata": {},
   "outputs": [
    {
     "name": "stdout",
     "output_type": "stream",
     "text": [
      "True\n",
      "False\n",
      "{'name': 'Alice', 'email': 'alice@example.com'}\n"
     ]
    },
    {
     "ename": "KeyError",
     "evalue": "'boby@example.com'",
     "output_type": "error",
     "traceback": [
      "\u001b[0;31m---------------------------------------------------------------------------\u001b[0m",
      "\u001b[0;31mKeyError\u001b[0m                                  Traceback (most recent call last)",
      "\u001b[0;32m<ipython-input-30-d6a0d9bc1f1a>\u001b[0m in \u001b[0;36m<module>\u001b[0;34m()\u001b[0m\n\u001b[1;32m      4\u001b[0m \u001b[0;34m\u001b[0m\u001b[0m\n\u001b[1;32m      5\u001b[0m \u001b[0mprint\u001b[0m\u001b[0;34m(\u001b[0m\u001b[0mpersons\u001b[0m\u001b[0;34m[\u001b[0m\u001b[0;34m'alice@example.com'\u001b[0m\u001b[0;34m]\u001b[0m\u001b[0;34m)\u001b[0m\u001b[0;34m\u001b[0m\u001b[0m\n\u001b[0;32m----> 6\u001b[0;31m \u001b[0mprint\u001b[0m\u001b[0;34m(\u001b[0m\u001b[0mpersons\u001b[0m\u001b[0;34m[\u001b[0m\u001b[0;34m'boby@example.com'\u001b[0m\u001b[0;34m]\u001b[0m\u001b[0;34m)\u001b[0m\u001b[0;34m\u001b[0m\u001b[0m\n\u001b[0m",
      "\u001b[0;31mKeyError\u001b[0m: 'boby@example.com'"
     ]
    }
   ],
   "source": [
    "print('alice@example.com' in persons)\n",
    "\n",
    "print('bobby@example.com' in persons)\n",
    "\n",
    "print(persons['alice@example.com'])\n",
    "print(persons['boby@example.com'])\n",
    "\n"
   ]
  },
  {
   "cell_type": "markdown",
   "metadata": {},
   "source": [
    "#### Safe access to dictionary\n",
    "\n",
    "There are a number of ways to safely access a dictionary."
   ]
  },
  {
   "cell_type": "code",
   "execution_count": 31,
   "metadata": {},
   "outputs": [
    {
     "name": "stdout",
     "output_type": "stream",
     "text": [
      "result 1: ''\n",
      "result 2: ''\n",
      "result 3: ''\n",
      "result 4: 'None'\n"
     ]
    }
   ],
   "source": [
    "# long version\n",
    "key = 'boby@example.com'\n",
    "if key in persons:\n",
    "    value = persons[key]\n",
    "else:\n",
    "    value = ''\n",
    "print('result 1: \\'{}\\''.format(value))\n",
    "\n",
    "# similar .. but different. Catching the KeyError exception\n",
    "key = 'boby@example.com'\n",
    "try:\n",
    "    value = persons[key]\n",
    "except KeyError:\n",
    "    value = ''\n",
    "print('result 2: \\'{}\\''.format(value))\n",
    "\n",
    "# way better\n",
    "value = persons.get(key, '')\n",
    "print('result 3: \\'{}\\''.format(value))\n",
    "\n",
    "# without a second parameter dict.get() returns None for non-existing keys\n",
    "value = persons.get(key)\n",
    "print('result 4: \\'{}\\''.format(value))\n",
    "\n",
    "      \n"
   ]
  },
  {
   "cell_type": "markdown",
   "metadata": {},
   "source": [
    "### Nesting\n",
    "\n",
    "Python allow to *nest* data types. Examples are lists of lists, dictionaries where the values are again dictionaries (see above).\n",
    "\n",
    "A list of lists for example can be used to model a matrix where the matrix is a set of rows"
   ]
  },
  {
   "cell_type": "code",
   "execution_count": 32,
   "metadata": {},
   "outputs": [
    {
     "name": "stdout",
     "output_type": "stream",
     "text": [
      "[[11, 12, 13], [21, 22, 23], [31, 32, 33]]\n",
      "23\n",
      "[[11, 12, 13], [21, 22, 23], [31, 32, 33]]\n",
      "\n",
      "1st row:  [11, 12, 13]\n"
     ]
    }
   ],
   "source": [
    "r1 = [11, 12, 13]\n",
    "r2 = [21, 22, 23]\n",
    "r3 = [31, 32, 33]\n",
    "\n",
    "# m is a list of rows r1, r2, r3\n",
    "m = [r1, r2, r3]\n",
    "\n",
    "print(m)\n",
    "\n",
    "print(m[1][2])\n",
    "\n",
    "# m can also be defined directly\n",
    "m = [[11, 12, 13], [21, 22, 23], [31, 32, 33]]\n",
    "print(m)\n",
    "\n",
    "print('\\n1st row: ', m[0])"
   ]
  },
  {
   "cell_type": "markdown",
   "metadata": {},
   "source": [
    "### Comprehensions\n",
    "\n",
    "One of teh most powerfull tools Python has to offer is the concept of comprehensions. The basic idea is that you can iterate through the elements of an iterable (say a list), apply a filter, define an expression using the elements of the iterable and collect the results in a list all in one expression.\n",
    "\n",
    "Here's a simple example:"
   ]
  },
  {
   "cell_type": "code",
   "execution_count": 33,
   "metadata": {},
   "outputs": [
    {
     "name": "stdout",
     "output_type": "stream",
     "text": [
      "[0, 1, 4, 9, 16, 25, 36, 49, 64, 81]\n",
      "[0, 4, 16, 36, 64]\n"
     ]
    }
   ],
   "source": [
    "l = range(10)\n",
    "squares = [element ** 2 for element in l]\n",
    "print(squares)\n",
    "\n",
    "even_squares = [element ** 2 for element in l if element % 2 == 0]\n",
    "print(even_squares)"
   ]
  },
  {
   "cell_type": "markdown",
   "metadata": {},
   "source": [
    "Comprehensions can be nested:"
   ]
  },
  {
   "cell_type": "code",
   "execution_count": 34,
   "metadata": {},
   "outputs": [
    {
     "name": "stdout",
     "output_type": "stream",
     "text": [
      "[[11, 12, 13, 14, 15, 16, 17, 18, 19], [21, 22, 23, 24, 25, 26, 27, 28, 29], [31, 32, 33, 34, 35, 36, 37, 38, 39], [41, 42, 43, 44, 45, 46, 47, 48, 49], [51, 52, 53, 54, 55, 56, 57, 58, 59], [61, 62, 63, 64, 65, 66, 67, 68, 69], [71, 72, 73, 74, 75, 76, 77, 78, 79], [81, 82, 83, 84, 85, 86, 87, 88, 89], [91, 92, 93, 94, 95, 96, 97, 98, 99]]\n"
     ]
    }
   ],
   "source": [
    "# create a matrix with 9 rows where each row as 9 columns and each value is determined by the row and column\n",
    "matrix = [[row * 10 + col + 11 for col in range(9)] for row in range(9)]\n",
    "print(matrix)"
   ]
  },
  {
   "cell_type": "markdown",
   "metadata": {},
   "source": [
    "A list comprehension also allows to easily extract a column from above matrix. For example this would get us the sixth column"
   ]
  },
  {
   "cell_type": "code",
   "execution_count": 35,
   "metadata": {},
   "outputs": [
    {
     "name": "stdout",
     "output_type": "stream",
     "text": [
      "[16, 26, 36, 46, 56, 66, 76, 86, 96]\n"
     ]
    }
   ],
   "source": [
    "column_six = [row[5] for row in matrix]\n",
    "print(column_six)"
   ]
  },
  {
   "cell_type": "markdown",
   "metadata": {},
   "source": [
    "Comprehensions can also be used to generate dictionaries."
   ]
  },
  {
   "cell_type": "code",
   "execution_count": 36,
   "metadata": {},
   "outputs": [
    {
     "name": "stdout",
     "output_type": "stream",
     "text": [
      "{1: 1, 3: 9, 5: 25, 7: 49, 9: 81}\n",
      "49\n"
     ]
    }
   ],
   "source": [
    "# start with numbers 0..9\n",
    "numbers = list(range(10))\n",
    "\n",
    "# create a dictionary which allows to lookup squares of odd numbers\n",
    "odd_square = {n : n ** 2 for n in numbers if n % 2}\n",
    "print(odd_square)\n",
    "print(odd_square[7])"
   ]
  },
  {
   "cell_type": "markdown",
   "metadata": {},
   "source": [
    "### Generators\n",
    "\n",
    "If you enclose a comprehension in *parantheses* instead of squared brackets you get a generator. The key difference between a list comprehension and a generator is that the generator calculates the values one by one as you request them. This is typically used to safe execution time (you can stop iterating through a generator at any time and the remaining elements are not evaluated) and memory (no need to evaluate the expression for all elements and store them in a list). "
   ]
  },
  {
   "cell_type": "code",
   "execution_count": 37,
   "metadata": {},
   "outputs": [
    {
     "name": "stdout",
     "output_type": "stream",
     "text": [
      "<generator object <genexpr> at 0x1088b3990>\n",
      "0\n",
      "1\n",
      "4\n",
      "[9, 16, 25, 36, 49, 64, 81]\n"
     ]
    }
   ],
   "source": [
    "numbers = list(range(10))\n",
    "\n",
    "squares = (element ** 2 for element in numbers)\n",
    "\n",
    "# squares is a generator object\n",
    "print(squares)\n",
    "\n",
    "# get the 1st three\n",
    "print(next(squares))\n",
    "print(next(squares))\n",
    "print(next(squares))\n",
    "\n",
    "# if we stop code execution here then the remaining elements are not evaluated\n",
    "\n",
    "# .. but we can also collect all remaining elements in a list\n",
    "remaining = [e for e in squares]\n",
    "print(remaining)\n"
   ]
  },
  {
   "cell_type": "markdown",
   "metadata": {},
   "source": [
    "## Modules\n",
    "\n",
    "Modules can be imported using:\n",
    "> `import some_module_to_import`\n",
    "\n",
    "You can import multiple modules in one statement:\n",
    "> `import some_module_to_import, another_module_to_import`"
   ]
  },
  {
   "cell_type": "code",
   "execution_count": 38,
   "metadata": {},
   "outputs": [],
   "source": [
    "import math"
   ]
  },
  {
   "cell_type": "code",
   "execution_count": 39,
   "metadata": {},
   "outputs": [
    {
     "name": "stdout",
     "output_type": "stream",
     "text": [
      "3.141592653589793\n"
     ]
    }
   ],
   "source": [
    "print(math.pi)\n"
   ]
  },
  {
   "cell_type": "markdown",
   "metadata": {},
   "source": [
    "## Handling JSON\n",
    "\n",
    "The `json` module has all the tools to handle JSON.\n",
    "\n",
    "### Create JSON string from Python variable\n",
    "\n",
    "`json.dumps()` allows to dump a Python variable (typically a dict or a list) to a string."
   ]
  },
  {
   "cell_type": "code",
   "execution_count": 40,
   "metadata": {},
   "outputs": [
    {
     "name": "stdout",
     "output_type": "stream",
     "text": [
      "{\"bob@example.com\": {\"name\": \"Bob\", \"email\": \"bob@example.com\"}, \"alice@example.com\": {\"name\": \"Alice\", \"email\": \"alice@example.com\"}}\n"
     ]
    }
   ],
   "source": [
    "import json\n",
    "\n",
    "bob = {'name' : 'Bob', 'email':'bob@example.com'}\n",
    "alice = {'name' : 'Alice', 'email':'alice@example.com'}\n",
    "\n",
    "persons = {bob['email'] : bob, alice['email'] : alice }\n",
    "print(json.dumps(persons))\n"
   ]
  },
  {
   "cell_type": "markdown",
   "metadata": {},
   "source": [
    "Note: keys and strings in JSON use \" as quotes\n",
    "\n",
    "`json.dumps()` also provides an easy way to \"pretty print\" json data.\n",
    "\n",
    "**Hint: used heavily when working with JSON data**"
   ]
  },
  {
   "cell_type": "code",
   "execution_count": 41,
   "metadata": {},
   "outputs": [
    {
     "name": "stdout",
     "output_type": "stream",
     "text": [
      "{\n",
      "    \"bob@example.com\": {\n",
      "        \"name\": \"Bob\",\n",
      "        \"email\": \"bob@example.com\"\n",
      "    },\n",
      "    \"alice@example.com\": {\n",
      "        \"name\": \"Alice\",\n",
      "        \"email\": \"alice@example.com\"\n",
      "    }\n",
      "}\n"
     ]
    }
   ],
   "source": [
    "print(json.dumps(persons, indent=4))"
   ]
  },
  {
   "cell_type": "markdown",
   "metadata": {},
   "source": [
    "### Evaluate JSON string and store the value into Python variable\n",
    "\n",
    "`json.loads` allows to interpret the contents of a string as JSON and put the resulting object into a Pyhton variable"
   ]
  },
  {
   "cell_type": "code",
   "execution_count": 42,
   "metadata": {},
   "outputs": [
    {
     "data": {
      "text/plain": [
       "{'bob@example.com': {'name': 'Bob', 'email': 'bob@example.com'},\n",
       " 'alice@example.com': {'name': 'Alice', 'email': 'alice@example.com'}}"
      ]
     },
     "execution_count": 42,
     "metadata": {},
     "output_type": "execute_result"
    }
   ],
   "source": [
    "json_string = '{\"bob@example.com\": {\"name\": \"Bob\", \"email\": \"bob@example.com\"}, \"alice@example.com\": {\"name\": \"Alice\", \"email\": \"alice@example.com\"}}'\n",
    "\n",
    "data = json.loads(json_string)\n",
    "data"
   ]
  },
  {
   "cell_type": "markdown",
   "metadata": {},
   "source": [
    "Invalid JSON data will raise a `json.JSONDecodeError` exception."
   ]
  },
  {
   "cell_type": "code",
   "execution_count": 43,
   "metadata": {},
   "outputs": [
    {
     "ename": "JSONDecodeError",
     "evalue": "Expecting property name enclosed in double quotes: line 1 column 2 (char 1)",
     "output_type": "error",
     "traceback": [
      "\u001b[0;31m---------------------------------------------------------------------------\u001b[0m",
      "\u001b[0;31mJSONDecodeError\u001b[0m                           Traceback (most recent call last)",
      "\u001b[0;32m<ipython-input-43-68aa97452f3f>\u001b[0m in \u001b[0;36m<module>\u001b[0;34m()\u001b[0m\n\u001b[1;32m      1\u001b[0m \u001b[0mjson_string\u001b[0m \u001b[0;34m=\u001b[0m \u001b[0;34m\"{'bob@example.com': {'name': 'Bob', 'email': 'bob@example.com'}, 'alice@example.com': {'name': 'Alice', 'email': 'alice@example.com'}}\"\u001b[0m\u001b[0;34m\u001b[0m\u001b[0m\n\u001b[0;32m----> 2\u001b[0;31m \u001b[0mdata\u001b[0m \u001b[0;34m=\u001b[0m \u001b[0mjson\u001b[0m\u001b[0;34m.\u001b[0m\u001b[0mloads\u001b[0m\u001b[0;34m(\u001b[0m\u001b[0mjson_string\u001b[0m\u001b[0;34m)\u001b[0m\u001b[0;34m\u001b[0m\u001b[0m\n\u001b[0m",
      "\u001b[0;32m/Library/Frameworks/Python.framework/Versions/3.6/lib/python3.6/json/__init__.py\u001b[0m in \u001b[0;36mloads\u001b[0;34m(s, encoding, cls, object_hook, parse_float, parse_int, parse_constant, object_pairs_hook, **kw)\u001b[0m\n\u001b[1;32m    352\u001b[0m             \u001b[0mparse_int\u001b[0m \u001b[0;32mis\u001b[0m \u001b[0;32mNone\u001b[0m \u001b[0;32mand\u001b[0m \u001b[0mparse_float\u001b[0m \u001b[0;32mis\u001b[0m \u001b[0;32mNone\u001b[0m \u001b[0;32mand\u001b[0m\u001b[0;34m\u001b[0m\u001b[0m\n\u001b[1;32m    353\u001b[0m             parse_constant is None and object_pairs_hook is None and not kw):\n\u001b[0;32m--> 354\u001b[0;31m         \u001b[0;32mreturn\u001b[0m \u001b[0m_default_decoder\u001b[0m\u001b[0;34m.\u001b[0m\u001b[0mdecode\u001b[0m\u001b[0;34m(\u001b[0m\u001b[0ms\u001b[0m\u001b[0;34m)\u001b[0m\u001b[0;34m\u001b[0m\u001b[0m\n\u001b[0m\u001b[1;32m    355\u001b[0m     \u001b[0;32mif\u001b[0m \u001b[0mcls\u001b[0m \u001b[0;32mis\u001b[0m \u001b[0;32mNone\u001b[0m\u001b[0;34m:\u001b[0m\u001b[0;34m\u001b[0m\u001b[0m\n\u001b[1;32m    356\u001b[0m         \u001b[0mcls\u001b[0m \u001b[0;34m=\u001b[0m \u001b[0mJSONDecoder\u001b[0m\u001b[0;34m\u001b[0m\u001b[0m\n",
      "\u001b[0;32m/Library/Frameworks/Python.framework/Versions/3.6/lib/python3.6/json/decoder.py\u001b[0m in \u001b[0;36mdecode\u001b[0;34m(self, s, _w)\u001b[0m\n\u001b[1;32m    337\u001b[0m \u001b[0;34m\u001b[0m\u001b[0m\n\u001b[1;32m    338\u001b[0m         \"\"\"\n\u001b[0;32m--> 339\u001b[0;31m         \u001b[0mobj\u001b[0m\u001b[0;34m,\u001b[0m \u001b[0mend\u001b[0m \u001b[0;34m=\u001b[0m \u001b[0mself\u001b[0m\u001b[0;34m.\u001b[0m\u001b[0mraw_decode\u001b[0m\u001b[0;34m(\u001b[0m\u001b[0ms\u001b[0m\u001b[0;34m,\u001b[0m \u001b[0midx\u001b[0m\u001b[0;34m=\u001b[0m\u001b[0m_w\u001b[0m\u001b[0;34m(\u001b[0m\u001b[0ms\u001b[0m\u001b[0;34m,\u001b[0m \u001b[0;36m0\u001b[0m\u001b[0;34m)\u001b[0m\u001b[0;34m.\u001b[0m\u001b[0mend\u001b[0m\u001b[0;34m(\u001b[0m\u001b[0;34m)\u001b[0m\u001b[0;34m)\u001b[0m\u001b[0;34m\u001b[0m\u001b[0m\n\u001b[0m\u001b[1;32m    340\u001b[0m         \u001b[0mend\u001b[0m \u001b[0;34m=\u001b[0m \u001b[0m_w\u001b[0m\u001b[0;34m(\u001b[0m\u001b[0ms\u001b[0m\u001b[0;34m,\u001b[0m \u001b[0mend\u001b[0m\u001b[0;34m)\u001b[0m\u001b[0;34m.\u001b[0m\u001b[0mend\u001b[0m\u001b[0;34m(\u001b[0m\u001b[0;34m)\u001b[0m\u001b[0;34m\u001b[0m\u001b[0m\n\u001b[1;32m    341\u001b[0m         \u001b[0;32mif\u001b[0m \u001b[0mend\u001b[0m \u001b[0;34m!=\u001b[0m \u001b[0mlen\u001b[0m\u001b[0;34m(\u001b[0m\u001b[0ms\u001b[0m\u001b[0;34m)\u001b[0m\u001b[0;34m:\u001b[0m\u001b[0;34m\u001b[0m\u001b[0m\n",
      "\u001b[0;32m/Library/Frameworks/Python.framework/Versions/3.6/lib/python3.6/json/decoder.py\u001b[0m in \u001b[0;36mraw_decode\u001b[0;34m(self, s, idx)\u001b[0m\n\u001b[1;32m    353\u001b[0m         \"\"\"\n\u001b[1;32m    354\u001b[0m         \u001b[0;32mtry\u001b[0m\u001b[0;34m:\u001b[0m\u001b[0;34m\u001b[0m\u001b[0m\n\u001b[0;32m--> 355\u001b[0;31m             \u001b[0mobj\u001b[0m\u001b[0;34m,\u001b[0m \u001b[0mend\u001b[0m \u001b[0;34m=\u001b[0m \u001b[0mself\u001b[0m\u001b[0;34m.\u001b[0m\u001b[0mscan_once\u001b[0m\u001b[0;34m(\u001b[0m\u001b[0ms\u001b[0m\u001b[0;34m,\u001b[0m \u001b[0midx\u001b[0m\u001b[0;34m)\u001b[0m\u001b[0;34m\u001b[0m\u001b[0m\n\u001b[0m\u001b[1;32m    356\u001b[0m         \u001b[0;32mexcept\u001b[0m \u001b[0mStopIteration\u001b[0m \u001b[0;32mas\u001b[0m \u001b[0merr\u001b[0m\u001b[0;34m:\u001b[0m\u001b[0;34m\u001b[0m\u001b[0m\n\u001b[1;32m    357\u001b[0m             \u001b[0;32mraise\u001b[0m \u001b[0mJSONDecodeError\u001b[0m\u001b[0;34m(\u001b[0m\u001b[0;34m\"Expecting value\"\u001b[0m\u001b[0;34m,\u001b[0m \u001b[0ms\u001b[0m\u001b[0;34m,\u001b[0m \u001b[0merr\u001b[0m\u001b[0;34m.\u001b[0m\u001b[0mvalue\u001b[0m\u001b[0;34m)\u001b[0m \u001b[0;32mfrom\u001b[0m \u001b[0;32mNone\u001b[0m\u001b[0;34m\u001b[0m\u001b[0m\n",
      "\u001b[0;31mJSONDecodeError\u001b[0m: Expecting property name enclosed in double quotes: line 1 column 2 (char 1)"
     ]
    }
   ],
   "source": [
    "json_string = \"{'bob@example.com': {'name': 'Bob', 'email': 'bob@example.com'}, 'alice@example.com': {'name': 'Alice', 'email': 'alice@example.com'}}\"\n",
    "data = json.loads(json_string)"
   ]
  },
  {
   "cell_type": "markdown",
   "metadata": {},
   "source": [
    "What went wrong here?\n",
    "\n",
    "JSON is very strict: values and attribute names need to be enclosed in doube quotes: \"\n",
    "\n",
    "A typical pattern when reading JSON data is to intercept the `json.JSONDecodeError` exception."
   ]
  },
  {
   "cell_type": "code",
   "execution_count": 44,
   "metadata": {},
   "outputs": [
    {
     "name": "stdout",
     "output_type": "stream",
     "text": [
      "JSON string failed to parse\n",
      "None\n"
     ]
    }
   ],
   "source": [
    "try:\n",
    "    data = json.loads(json_string)\n",
    "except json.JSONDecodeError:\n",
    "    print('JSON string failed to parse')\n",
    "    data = None\n",
    "    \n",
    "print(data)"
   ]
  }
 ],
 "metadata": {
  "celltoolbar": "Attachments",
  "kernelspec": {
   "display_name": "Python 3",
   "language": "python",
   "name": "python3"
  },
  "language_info": {
   "codemirror_mode": {
    "name": "ipython",
    "version": 3
   },
   "file_extension": ".py",
   "mimetype": "text/x-python",
   "name": "python",
   "nbconvert_exporter": "python",
   "pygments_lexer": "ipython3",
   "version": "3.6.4"
  }
 },
 "nbformat": 4,
 "nbformat_minor": 2
}
